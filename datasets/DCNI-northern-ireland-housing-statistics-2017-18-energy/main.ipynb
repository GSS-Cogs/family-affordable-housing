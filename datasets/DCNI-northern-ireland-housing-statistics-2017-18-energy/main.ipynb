{
 "cells": [
  {
   "cell_type": "code",
   "execution_count": 1,
   "metadata": {},
   "outputs": [],
   "source": [
    "from gssutils import *"
   ]
  },
  {
   "cell_type": "code",
   "execution_count": 2,
   "metadata": {},
   "outputs": [],
   "source": [
    "scraper = Scraper('https://www.communities-ni.gov.uk/publications/topic/8182?search=%22Northern+Ireland+Housing+Statistics%22&sort_by=field_published_date')\n",
    "tabs = { tab.name: tab for tab in scraper.distributions[1].as_databaker() } "
   ]
  },
  {
   "cell_type": "code",
   "execution_count": 3,
   "metadata": {},
   "outputs": [],
   "source": [
    "next_table = pd.DataFrame()"
   ]
  },
  {
   "cell_type": "code",
   "execution_count": 4,
   "metadata": {},
   "outputs": [],
   "source": [
    "%%capture\n",
    "\n",
    "%run \"T2.1.py\"\n",
    "next_table = pd.concat([next_table, new_table])\n",
    "%run \"T2.2.py\"\n",
    "next_table = pd.concat([next_table, new_table])\n",
    "%run \"T2.3.py\"\n",
    "next_table = pd.concat([next_table, new_table])\n",
    "%run \"T2.4.py\"\n",
    "next_table = pd.concat([next_table, new_table])\n",
    "%run \"T2.5.py\"\n",
    "next_table = pd.concat([next_table, new_table])"
   ]
  },
  {
   "cell_type": "code",
   "execution_count": 5,
   "metadata": {},
   "outputs": [],
   "source": [
    "next_table['Period'] = next_table['Period'].str.replace('\\.0', '')"
   ]
  },
  {
   "cell_type": "code",
   "execution_count": 6,
   "metadata": {},
   "outputs": [],
   "source": [
    "next_table['NI Household Description'] = next_table['NI Household Description'].apply(pathify)"
   ]
  },
  {
   "cell_type": "code",
   "execution_count": 7,
   "metadata": {},
   "outputs": [],
   "source": [
    "next_table['NI Household Energy Status'] = next_table['NI Household Energy'].apply(pathify)"
   ]
  },
  {
   "cell_type": "code",
   "execution_count": 8,
   "metadata": {},
   "outputs": [],
   "source": [
    "next_table['NI Household Energy Status'] = next_table['NI Household Energy Status'].map(lambda cell: cell.replace('/','-'))"
   ]
  },
  {
   "cell_type": "code",
   "execution_count": 9,
   "metadata": {},
   "outputs": [],
   "source": [
    "next_table['NI Household Energy Status'] = next_table['NI Household Energy Status'].str.lstrip('-')"
   ]
  },
  {
   "cell_type": "code",
   "execution_count": 10,
   "metadata": {},
   "outputs": [],
   "source": [
    "def user_perc(x):\n",
    "    \n",
    "    if (str(x) ==  '*')  | (str(x) == '..'): \n",
    "        \n",
    "        return 'not-defined'\n",
    "    else:\n",
    "        return 'no-marker'\n",
    "    \n",
    "next_table['NI Marker'] = next_table.apply(lambda row: user_perc(row['NI Marker']), axis = 1)"
   ]
  },
  {
   "cell_type": "code",
   "execution_count": 11,
   "metadata": {},
   "outputs": [],
   "source": [
    "next_table = next_table[['Period','NI Household Description','NI Household Energy Status','Unit','Value','Measure Type','NI Marker']]"
   ]
  },
  {
   "cell_type": "code",
   "execution_count": 15,
   "metadata": {},
   "outputs": [],
   "source": [
    "from pathlib import Path\n",
    "out = Path('out')\n",
    "out.mkdir(exist_ok=True)\n",
    "next_table.drop_duplicates().to_csv(out / 'observations.csv', index = False)"
   ]
  },
  {
   "cell_type": "code",
   "execution_count": 23,
   "metadata": {},
   "outputs": [
    {
     "name": "stdout",
     "output_type": "stream",
     "text": [
      "Northern Ireland Housing Statistics Energy\n",
      "northern-ireland-housing-statistics-energy\n"
     ]
    }
   ],
   "source": [
    "import numpy as np\n",
    "from os import environ\n",
    "\n",
    "nme = \"Northern Ireland Housing Statistics Energy\"\n",
    "pnme = pathify(nme)\n",
    "scraper.dataset.family = 'affordable-housing'\n",
    "print(nme)\n",
    "print(pnme)"
   ]
  },
  {
   "cell_type": "code",
   "execution_count": 24,
   "metadata": {},
   "outputs": [],
   "source": [
    "scraper.dataset.title = nme\n",
    "scraper.set_dataset_id(f'{pathify(environ.get(\"JOB_NAME\", \"\"))}/{pnme}')\n",
    "with open(out / 'observations.csv-metadata.trig', 'wb') as metadata:\n",
    "    scraper.dataset.license = \"http://www.nationalarchives.gov.uk/doc/open-government-licence/version/3/\"\n",
    "    metadata.write(scraper.generate_trig())"
   ]
  },
  {
   "cell_type": "code",
   "execution_count": 25,
   "metadata": {},
   "outputs": [],
   "source": [
    "csvw = CSVWMetadata('https://gss-cogs.github.io/family-affordable-housing/reference\n",
    "                   \n",
    "csvw.create(out / 'observations.csv', out / 'observations.csv-schema.json')"
   ]
  },
  {
   "cell_type": "code",
   "execution_count": null,
   "metadata": {},
   "outputs": [],
   "source": []
  }
 ],
 "metadata": {
  "jupytext": {
   "formats": "ipynb,py:light",
   "text_representation": {
    "extension": ".py",
    "format_name": "light",
    "format_version": "1.5",
    "jupytext_version": "1.3.3"
   }
  },
  "kernelspec": {
   "display_name": "Python 3",
   "language": "python",
   "name": "python3"
  },
  "language_info": {
   "codemirror_mode": {
    "name": "ipython",
    "version": 3
   },
   "file_extension": ".py",
   "mimetype": "text/x-python",
   "name": "python",
   "nbconvert_exporter": "python",
   "pygments_lexer": "ipython3",
   "version": "3.7.6"
  }
 },
 "nbformat": 4,
 "nbformat_minor": 2
}
