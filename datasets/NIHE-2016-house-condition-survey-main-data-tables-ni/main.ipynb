{
 "cells": [
  {
   "cell_type": "code",
   "execution_count": 7,
   "metadata": {},
   "outputs": [],
   "source": [
    "#TODO fix info.json read in process,temporary read in process for ods file\n",
    "import json\n",
    "from gssutils import *\n",
    "from gssutils.metadata import Distribution, ODS\n",
    "# Load the json\n",
    "#info = json.load(open(\"info.json\"))\n",
    "# Create a temporary scraper, using the info.json\n",
    "\n",
    "info = {\n",
    "    \"title\": \"2016 House Condition Survey Main Data Tables (NI)\",\n",
    "    \"publisher\": \"Northern Ireland Housing Executive (NIHE)\",\n",
    "    \"description\": \"The Northern Ireland Housing Bulletin is a quarterly bulletin containing information on new housing starts and completions, homelessness, the NI House Price Index and new house sales and prices.\",\n",
    "    \"dataURL\": \"https://www.communities-ni.gov.uk/publications/northern-ireland-housing-bulletin-january-march-2019\",\n",
    "    \"contacts\":\n",
    "    [{\n",
    "      \t\"name\": \"James Sampson, Katie Fulton, Andrew Shiels, Carley Bailie\",\n",
    "      \t\"tel\": \"(028) 9051 5438\",\n",
    "      \t\"email\": \"asu@communities-ni.gov.uk\"\n",
    "    }],\n",
    "    \"metaURL\": \"https://www.communities-ni.gov.uk/publications/northern-ireland-housing-bulletin-january-march-2019\",\n",
    "    \"published\": \"06 August 2019\",\n",
    "    \"families\": [\"Housing\", \"Energy\"],\n",
    "    \"stability\": \"Good\",\n",
    "    \"future\": \"Good\",\n",
    "    \"extract\": {\n",
    "        \t\"source\": \"Excel Spreadsheet\",\n",
    "        \t\"subset\": \"All Tabs\",\n",
    "        \t\"breakdowns\":\n",
    "          [\n",
    "            {\"Period\":\n",
    "              [\n",
    "                \"Year\",\n",
    "                \"Quarter\"\n",
    "                ]},\n",
    "            \"Dwelling\",\n",
    "            \"Household\",\n",
    "            \"Property Sales\",\n",
    "            \"House Price\",\n",
    "          ]\n",
    "    },\n",
    "    \"notes\": \"\",\n",
    "    \"transform\": {\n",
    "      \"main_issue\": 33\n",
    "    }\n",
    "}\n"
   ]
  },
  {
   "cell_type": "code",
   "execution_count": 34,
   "metadata": {},
   "outputs": [
    {
     "data": {
      "text/markdown": [
       "## 2016 House Condition Survey Main Data Tables (NI)\n",
       "\n",
       "### Description\n",
       "\n",
       "The Northern Ireland Housing Bulletin is a quarterly bulletin containing information on new housing starts and completions, homelessness, the NI House Price Index and new house sales and prices.\n",
       "\n",
       "### Distributions\n",
       "\n",
       "1. A distribution ([ODF Spreadsheet](https://www.communities-ni.gov.uk/system/files/publications/communities/ni-housing-bulletin-jan-mar19-tables.ods))\n"
      ],
      "text/plain": [
       "<gssutils.scrape.Scraper at 0x1077ee860>"
      ]
     },
     "execution_count": 34,
     "metadata": {},
     "output_type": "execute_result"
    }
   ],
   "source": [
    "def temp_scrape(scraper, tree):\n",
    "    scraper.dataset.title = info['title']\n",
    "    dist = Distribution(scraper)\n",
    "    dist.title = 'A distribution'\n",
    "    dist.downloadURL = 'https://www.communities-ni.gov.uk/system/files/publications/communities/ni-housing-bulletin-jan-mar19-tables.ods'\n",
    "    dist.mediaType = ODS\n",
    "    scraper.distributions.append(dist)\n",
    "    scraper.dataset.publisher = 'https://www.gov.uk/government/organisations/northern-ireland-housing-executive'\n",
    "    scraper.dataset.description = info['description']\n",
    "    return\n",
    "\n",
    "scrapers.scraper_list = [('https://www.communities-ni.gov.uk/publications/northern-ireland-housing-bulletin-january-march-2019', temp_scrape)]\n",
    "scraper = Scraper('https://www.communities-ni.gov.uk/publications/northern-ireland-housing-bulletin-january-march-2019')\n",
    "scraper"
   ]
  },
  {
   "cell_type": "code",
   "execution_count": 71,
   "metadata": {},
   "outputs": [
    {
     "name": "stdout",
     "output_type": "stream",
     "text": [
      "Loading data.xls which has size 100352 bytes\n",
      "Table names: ['Contents', 'T1_1', 'T1_2', 'T1_3', 'T1_4', 'T2_1', 'T2_2', 'T2_3', 'T3_1', 'T3_2', 'T3_3', 'T3_4', 'T3_5']\n"
     ]
    }
   ],
   "source": [
    "from pandas import ExcelWriter\n",
    "xls = pd.ExcelFile(scraper.distributions[0].downloadURL, engine=\"odf\")\n",
    "with ExcelWriter(\"data.xls\") as writer:\n",
    "    for sheet in xls.sheet_names:\n",
    "        pd.read_excel(xls, sheet).to_excel(writer,sheet)\n",
    "    writer.save()\n",
    "tabs = loadxlstabs(\"data.xls\")"
   ]
  },
  {
   "cell_type": "code",
   "execution_count": null,
   "metadata": {},
   "outputs": [],
   "source": []
  },
  {
   "cell_type": "code",
   "execution_count": null,
   "metadata": {},
   "outputs": [],
   "source": []
  },
  {
   "cell_type": "code",
   "execution_count": null,
   "metadata": {},
   "outputs": [],
   "source": []
  },
  {
   "cell_type": "code",
   "execution_count": null,
   "metadata": {},
   "outputs": [],
   "source": []
  }
 ],
 "metadata": {
  "kernelspec": {
   "display_name": "Python 3",
   "language": "python",
   "name": "python3"
  },
  "language_info": {
   "codemirror_mode": {
    "name": "ipython",
    "version": 3
   },
   "file_extension": ".py",
   "mimetype": "text/x-python",
   "name": "python",
   "nbconvert_exporter": "python",
   "pygments_lexer": "ipython3",
   "version": "3.7.0"
  }
 },
 "nbformat": 4,
 "nbformat_minor": 4
}
